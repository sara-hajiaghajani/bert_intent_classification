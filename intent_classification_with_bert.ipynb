{
  "cells": [
    {
      "cell_type": "markdown",
      "source": [
        "نصب پکیچ‌های مورد نیاز برای پردازش متن و دانلود فایل‌ دیتاست از گوگل"
      ],
      "metadata": {
        "id": "U8VmmrQvD47F"
      }
    },
    {
      "cell_type": "code",
      "execution_count": 1,
      "metadata": {
        "execution": {
          "iopub.execute_input": "2021-01-13T03:07:06.589168Z",
          "iopub.status.busy": "2021-01-13T03:07:06.588472Z",
          "iopub.status.idle": "2021-01-13T03:07:09.581333Z",
          "shell.execute_reply": "2021-01-13T03:07:09.580642Z"
        },
        "id": "q-YbjCkzw0yU",
        "colab": {
          "base_uri": "https://localhost:8080/"
        },
        "outputId": "8b75f847-3eb5-4313-c7b1-81cfe558c47c"
      },
      "outputs": [
        {
          "output_type": "stream",
          "name": "stdout",
          "text": [
            "\u001b[K     |████████████████████████████████| 4.4 MB 31.3 MB/s \n",
            "\u001b[K     |████████████████████████████████| 570.3 MB 318 bytes/s \n",
            "\u001b[K     |████████████████████████████████| 132 kB 60.5 MB/s \n",
            "\u001b[K     |████████████████████████████████| 5.6 MB 63.8 MB/s \n",
            "\u001b[K     |████████████████████████████████| 14.8 MB 62.9 MB/s \n",
            "\u001b[K     |████████████████████████████████| 1.3 MB 59.2 MB/s \n",
            "\u001b[K     |████████████████████████████████| 462 kB 78.4 MB/s \n",
            "\u001b[?25h  Building wheel for clang (setup.py) ... \u001b[?25l\u001b[?25hdone\n",
            "  Building wheel for wrapt (setup.py) ... \u001b[?25l\u001b[?25hdone\n",
            "\u001b[31mERROR: pip's dependency resolver does not currently take into account all the packages that are installed. This behaviour is the source of the following dependency conflicts.\n",
            "xarray-einstats 0.2.2 requires numpy>=1.21, but you have numpy 1.19.5 which is incompatible.\n",
            "cmdstanpy 1.0.4 requires numpy>=1.21, but you have numpy 1.19.5 which is incompatible.\u001b[0m\n",
            "Looking in indexes: https://pypi.org/simple, https://us-python.pkg.dev/colab-wheels/public/simple/\n",
            "Requirement already satisfied: gdown in /usr/local/lib/python3.7/dist-packages (4.4.0)\n",
            "Requirement already satisfied: filelock in /usr/local/lib/python3.7/dist-packages (from gdown) (3.7.1)\n",
            "Requirement already satisfied: tqdm in /usr/local/lib/python3.7/dist-packages (from gdown) (4.64.0)\n",
            "Requirement already satisfied: requests[socks] in /usr/local/lib/python3.7/dist-packages (from gdown) (2.23.0)\n",
            "Requirement already satisfied: beautifulsoup4 in /usr/local/lib/python3.7/dist-packages (from gdown) (4.6.3)\n",
            "Requirement already satisfied: six in /usr/local/lib/python3.7/dist-packages (from gdown) (1.15.0)\n",
            "Requirement already satisfied: chardet<4,>=3.0.2 in /usr/local/lib/python3.7/dist-packages (from requests[socks]->gdown) (3.0.4)\n",
            "Requirement already satisfied: certifi>=2017.4.17 in /usr/local/lib/python3.7/dist-packages (from requests[socks]->gdown) (2022.6.15)\n",
            "Requirement already satisfied: idna<3,>=2.5 in /usr/local/lib/python3.7/dist-packages (from requests[socks]->gdown) (2.10)\n",
            "Requirement already satisfied: urllib3!=1.25.0,!=1.25.1,<1.26,>=1.21.1 in /usr/local/lib/python3.7/dist-packages (from requests[socks]->gdown) (1.24.3)\n",
            "Requirement already satisfied: PySocks!=1.5.7,>=1.5.6 in /usr/local/lib/python3.7/dist-packages (from requests[socks]->gdown) (1.7.1)\n"
          ]
        }
      ],
      "source": [
        "!pip install -q tensorflow-text==2.6.0\n",
        "!pip install gdown"
      ]
    },
    {
      "cell_type": "code",
      "execution_count": 2,
      "metadata": {
        "execution": {
          "iopub.execute_input": "2021-01-13T03:07:33.561260Z",
          "iopub.status.busy": "2021-01-13T03:07:33.560567Z",
          "iopub.status.idle": "2021-01-13T03:07:40.852309Z",
          "shell.execute_reply": "2021-01-13T03:07:40.851601Z"
        },
        "id": "_XgTpm9ZxoN9"
      },
      "outputs": [],
      "source": [
        "import pandas as pd\n",
        "\n",
        "import tensorflow as tf\n",
        "import tensorflow_hub as hub\n",
        "import tensorflow_text as text\n",
        "from sklearn.preprocessing import LabelBinarizer"
      ]
    },
    {
      "cell_type": "code",
      "execution_count": 3,
      "metadata": {
        "id": "0d6VcfrE9GK8"
      },
      "outputs": [],
      "source": [
        "trainfile=\"train.csv\"\n",
        "testfile=\"test.csv\"\n",
        "validfile=\"valid.csv\""
      ]
    },
    {
      "cell_type": "markdown",
      "source": [
        "دانلود فایل‌ها از منبع گوگل"
      ],
      "metadata": {
        "id": "xmJ3ai1YEYHf"
      }
    },
    {
      "cell_type": "code",
      "source": [
        "!gdown --id 1OlcvGWReJMuyYQuOZm149vHWwPtlboR6 --output train.csv\n",
        "!gdown --id 1Oi5cRlTybuIF2Fl5Bfsr-KkqrXrdt77w --output valid.csv\n",
        "!gdown --id 1ep9H6-HvhB4utJRLVcLzieWNUSG3P_uF --output test.csv "
      ],
      "metadata": {
        "colab": {
          "base_uri": "https://localhost:8080/"
        },
        "id": "yfjOewfM4smS",
        "outputId": "bdd8df73-f5c0-4eae-9ced-1e9d9ab1fa3b"
      },
      "execution_count": 4,
      "outputs": [
        {
          "output_type": "stream",
          "name": "stdout",
          "text": [
            "/usr/local/lib/python3.7/dist-packages/gdown/cli.py:131: FutureWarning: Option `--id` was deprecated in version 4.3.1 and will be removed in 5.0. You don't need to pass it anymore to use a file ID.\n",
            "  category=FutureWarning,\n",
            "Downloading...\n",
            "From: https://drive.google.com/uc?id=1OlcvGWReJMuyYQuOZm149vHWwPtlboR6\n",
            "To: /content/train.csv\n",
            "100% 799k/799k [00:00<00:00, 142MB/s]\n",
            "/usr/local/lib/python3.7/dist-packages/gdown/cli.py:131: FutureWarning: Option `--id` was deprecated in version 4.3.1 and will be removed in 5.0. You don't need to pass it anymore to use a file ID.\n",
            "  category=FutureWarning,\n",
            "Downloading...\n",
            "From: https://drive.google.com/uc?id=1Oi5cRlTybuIF2Fl5Bfsr-KkqrXrdt77w\n",
            "To: /content/valid.csv\n",
            "100% 43.3k/43.3k [00:00<00:00, 60.4MB/s]\n",
            "/usr/local/lib/python3.7/dist-packages/gdown/cli.py:131: FutureWarning: Option `--id` was deprecated in version 4.3.1 and will be removed in 5.0. You don't need to pass it anymore to use a file ID.\n",
            "  category=FutureWarning,\n",
            "Downloading...\n",
            "From: https://drive.google.com/uc?id=1ep9H6-HvhB4utJRLVcLzieWNUSG3P_uF\n",
            "To: /content/test.csv\n",
            "100% 43.1k/43.1k [00:00<00:00, 58.3MB/s]\n"
          ]
        }
      ]
    },
    {
      "cell_type": "markdown",
      "source": [
        "بارگذاری فایل‌های دیتاست"
      ],
      "metadata": {
        "id": "GN4fWz2JE7R9"
      }
    },
    {
      "cell_type": "code",
      "execution_count": 5,
      "metadata": {
        "id": "aHYWK8Fi9GK_"
      },
      "outputs": [],
      "source": [
        "traindf = pd.read_csv(trainfile)\n",
        "validdf = pd.read_csv(validfile)\n",
        "testdf = pd.read_csv(testfile)"
      ]
    },
    {
      "cell_type": "markdown",
      "source": [
        "نمونه داده‌های موجود در دیتاست"
      ],
      "metadata": {
        "id": "9dejib-KE9lL"
      }
    },
    {
      "cell_type": "code",
      "execution_count": 6,
      "metadata": {
        "colab": {
          "base_uri": "https://localhost:8080/",
          "height": 363
        },
        "id": "ZlICTeq09GK_",
        "outputId": "d3b72ab1-06e2-40e7-8605-43275ec37053"
      },
      "outputs": [
        {
          "output_type": "execute_result",
          "data": {
            "text/plain": [
              "                                                text                intent\n",
              "0   listen to westbam alumb allergic on google music             PlayMusic\n",
              "1         add step to me to the 50 clásicos playlist         AddToPlaylist\n",
              "2  i give this current textbook a rating value of...              RateBook\n",
              "3               play the song little robin redbreast             PlayMusic\n",
              "4  please add iris dement to my playlist this is ...         AddToPlaylist\n",
              "5  add slimm cutta calhoun to my this is prince p...         AddToPlaylist\n",
              "6                i want to listen to seventies music             PlayMusic\n",
              "7              play a popular chant by brian epstein             PlayMusic\n",
              "8                                    find fish story  SearchScreeningEvent\n",
              "9                            book a spot for 3 in mt        BookRestaurant"
            ],
            "text/html": [
              "\n",
              "  <div id=\"df-0a1a529f-f180-4d9d-b68f-2b5b6811bd97\">\n",
              "    <div class=\"colab-df-container\">\n",
              "      <div>\n",
              "<style scoped>\n",
              "    .dataframe tbody tr th:only-of-type {\n",
              "        vertical-align: middle;\n",
              "    }\n",
              "\n",
              "    .dataframe tbody tr th {\n",
              "        vertical-align: top;\n",
              "    }\n",
              "\n",
              "    .dataframe thead th {\n",
              "        text-align: right;\n",
              "    }\n",
              "</style>\n",
              "<table border=\"1\" class=\"dataframe\">\n",
              "  <thead>\n",
              "    <tr style=\"text-align: right;\">\n",
              "      <th></th>\n",
              "      <th>text</th>\n",
              "      <th>intent</th>\n",
              "    </tr>\n",
              "  </thead>\n",
              "  <tbody>\n",
              "    <tr>\n",
              "      <th>0</th>\n",
              "      <td>listen to westbam alumb allergic on google music</td>\n",
              "      <td>PlayMusic</td>\n",
              "    </tr>\n",
              "    <tr>\n",
              "      <th>1</th>\n",
              "      <td>add step to me to the 50 clásicos playlist</td>\n",
              "      <td>AddToPlaylist</td>\n",
              "    </tr>\n",
              "    <tr>\n",
              "      <th>2</th>\n",
              "      <td>i give this current textbook a rating value of...</td>\n",
              "      <td>RateBook</td>\n",
              "    </tr>\n",
              "    <tr>\n",
              "      <th>3</th>\n",
              "      <td>play the song little robin redbreast</td>\n",
              "      <td>PlayMusic</td>\n",
              "    </tr>\n",
              "    <tr>\n",
              "      <th>4</th>\n",
              "      <td>please add iris dement to my playlist this is ...</td>\n",
              "      <td>AddToPlaylist</td>\n",
              "    </tr>\n",
              "    <tr>\n",
              "      <th>5</th>\n",
              "      <td>add slimm cutta calhoun to my this is prince p...</td>\n",
              "      <td>AddToPlaylist</td>\n",
              "    </tr>\n",
              "    <tr>\n",
              "      <th>6</th>\n",
              "      <td>i want to listen to seventies music</td>\n",
              "      <td>PlayMusic</td>\n",
              "    </tr>\n",
              "    <tr>\n",
              "      <th>7</th>\n",
              "      <td>play a popular chant by brian epstein</td>\n",
              "      <td>PlayMusic</td>\n",
              "    </tr>\n",
              "    <tr>\n",
              "      <th>8</th>\n",
              "      <td>find fish story</td>\n",
              "      <td>SearchScreeningEvent</td>\n",
              "    </tr>\n",
              "    <tr>\n",
              "      <th>9</th>\n",
              "      <td>book a spot for 3 in mt</td>\n",
              "      <td>BookRestaurant</td>\n",
              "    </tr>\n",
              "  </tbody>\n",
              "</table>\n",
              "</div>\n",
              "      <button class=\"colab-df-convert\" onclick=\"convertToInteractive('df-0a1a529f-f180-4d9d-b68f-2b5b6811bd97')\"\n",
              "              title=\"Convert this dataframe to an interactive table.\"\n",
              "              style=\"display:none;\">\n",
              "        \n",
              "  <svg xmlns=\"http://www.w3.org/2000/svg\" height=\"24px\"viewBox=\"0 0 24 24\"\n",
              "       width=\"24px\">\n",
              "    <path d=\"M0 0h24v24H0V0z\" fill=\"none\"/>\n",
              "    <path d=\"M18.56 5.44l.94 2.06.94-2.06 2.06-.94-2.06-.94-.94-2.06-.94 2.06-2.06.94zm-11 1L8.5 8.5l.94-2.06 2.06-.94-2.06-.94L8.5 2.5l-.94 2.06-2.06.94zm10 10l.94 2.06.94-2.06 2.06-.94-2.06-.94-.94-2.06-.94 2.06-2.06.94z\"/><path d=\"M17.41 7.96l-1.37-1.37c-.4-.4-.92-.59-1.43-.59-.52 0-1.04.2-1.43.59L10.3 9.45l-7.72 7.72c-.78.78-.78 2.05 0 2.83L4 21.41c.39.39.9.59 1.41.59.51 0 1.02-.2 1.41-.59l7.78-7.78 2.81-2.81c.8-.78.8-2.07 0-2.86zM5.41 20L4 18.59l7.72-7.72 1.47 1.35L5.41 20z\"/>\n",
              "  </svg>\n",
              "      </button>\n",
              "      \n",
              "  <style>\n",
              "    .colab-df-container {\n",
              "      display:flex;\n",
              "      flex-wrap:wrap;\n",
              "      gap: 12px;\n",
              "    }\n",
              "\n",
              "    .colab-df-convert {\n",
              "      background-color: #E8F0FE;\n",
              "      border: none;\n",
              "      border-radius: 50%;\n",
              "      cursor: pointer;\n",
              "      display: none;\n",
              "      fill: #1967D2;\n",
              "      height: 32px;\n",
              "      padding: 0 0 0 0;\n",
              "      width: 32px;\n",
              "    }\n",
              "\n",
              "    .colab-df-convert:hover {\n",
              "      background-color: #E2EBFA;\n",
              "      box-shadow: 0px 1px 2px rgba(60, 64, 67, 0.3), 0px 1px 3px 1px rgba(60, 64, 67, 0.15);\n",
              "      fill: #174EA6;\n",
              "    }\n",
              "\n",
              "    [theme=dark] .colab-df-convert {\n",
              "      background-color: #3B4455;\n",
              "      fill: #D2E3FC;\n",
              "    }\n",
              "\n",
              "    [theme=dark] .colab-df-convert:hover {\n",
              "      background-color: #434B5C;\n",
              "      box-shadow: 0px 1px 3px 1px rgba(0, 0, 0, 0.15);\n",
              "      filter: drop-shadow(0px 1px 2px rgba(0, 0, 0, 0.3));\n",
              "      fill: #FFFFFF;\n",
              "    }\n",
              "  </style>\n",
              "\n",
              "      <script>\n",
              "        const buttonEl =\n",
              "          document.querySelector('#df-0a1a529f-f180-4d9d-b68f-2b5b6811bd97 button.colab-df-convert');\n",
              "        buttonEl.style.display =\n",
              "          google.colab.kernel.accessAllowed ? 'block' : 'none';\n",
              "\n",
              "        async function convertToInteractive(key) {\n",
              "          const element = document.querySelector('#df-0a1a529f-f180-4d9d-b68f-2b5b6811bd97');\n",
              "          const dataTable =\n",
              "            await google.colab.kernel.invokeFunction('convertToInteractive',\n",
              "                                                     [key], {});\n",
              "          if (!dataTable) return;\n",
              "\n",
              "          const docLinkHtml = 'Like what you see? Visit the ' +\n",
              "            '<a target=\"_blank\" href=https://colab.research.google.com/notebooks/data_table.ipynb>data table notebook</a>'\n",
              "            + ' to learn more about interactive tables.';\n",
              "          element.innerHTML = '';\n",
              "          dataTable['output_type'] = 'display_data';\n",
              "          await google.colab.output.renderOutput(dataTable, element);\n",
              "          const docLink = document.createElement('div');\n",
              "          docLink.innerHTML = docLinkHtml;\n",
              "          element.appendChild(docLink);\n",
              "        }\n",
              "      </script>\n",
              "    </div>\n",
              "  </div>\n",
              "  "
            ]
          },
          "metadata": {},
          "execution_count": 6
        }
      ],
      "source": [
        "traindf.head(10)"
      ]
    },
    {
      "cell_type": "markdown",
      "source": [
        "جداسازی داده ها و تگ‌ها"
      ],
      "metadata": {
        "id": "PA4r91rpGtkZ"
      }
    },
    {
      "cell_type": "code",
      "execution_count": 7,
      "metadata": {
        "id": "tb0y-LmU9GLB"
      },
      "outputs": [],
      "source": [
        "trainfeatures=traindf.copy()\n",
        "trainlabels=trainfeatures.pop(\"intent\")\n",
        "trainfeatures=trainfeatures.values\n",
        "\n",
        "testfeatures=testdf.copy()\n",
        "testlabels=testfeatures.pop(\"intent\")\n",
        "testfeatures=testfeatures.values\n",
        "\n",
        "validfeatures=validdf.copy()\n",
        "validlabels=validfeatures.pop(\"intent\")\n",
        "validfeatures=validfeatures.values\n"
      ]
    },
    {
      "cell_type": "markdown",
      "source": [
        "تبدیل متن‌ها و لیبل‌ها به بردار های باینری \n"
      ],
      "metadata": {
        "id": "8-7lCDHiG-t9"
      }
    },
    {
      "cell_type": "code",
      "execution_count": 8,
      "metadata": {
        "id": "jtO4-3Wc9GLE"
      },
      "outputs": [],
      "source": [
        "binarizer=LabelBinarizer()\n",
        "trainlabels=binarizer.fit_transform(trainlabels.values)\n",
        "testlabels=binarizer.transform(testlabels.values)\n",
        "validlabels=binarizer.transform(validlabels.values)"
      ]
    },
    {
      "cell_type": "markdown",
      "source": [
        "دریافت مدل‌های پیش پردازش برت از مخزن تنسورفلو. در این مخزن مدل‌های مختلف برت مانند ALBERT ,\n",
        "Bert و \n",
        "smallBert\n",
        "قرار دارد که بنا به نیاز می‌توان از هر کدام از آن‌ها استفاده کرد. در این \n",
        "پروژه از مدل \n",
        "smallBert برای encode \n",
        "و از مدل Bert برای پیش پردازش استفاده شده است"
      ],
      "metadata": {
        "id": "Yz6R8CHUHxdd"
      }
    },
    {
      "cell_type": "code",
      "execution_count": 9,
      "metadata": {
        "execution": {
          "iopub.execute_input": "2021-01-13T03:08:07.421163Z",
          "iopub.status.busy": "2021-01-13T03:08:07.420022Z",
          "iopub.status.idle": "2021-01-13T03:08:07.423061Z",
          "shell.execute_reply": "2021-01-13T03:08:07.423513Z"
        },
        "id": "y8_ctG55-uTX"
      },
      "outputs": [],
      "source": [
        "tfhub_handle_encoder = 'https://tfhub.dev/tensorflow/small_bert/bert_en_uncased_L-8_H-512_A-8/1'\n",
        "tfhub_handle_preprocess ='https://tfhub.dev/tensorflow/bert_en_uncased_preprocess/2'\n",
        "bert_preprocess_model = hub.KerasLayer(tfhub_handle_preprocess)\n",
        "\n",
        "text_test = trainfeatures[0]\n",
        "text_preprocessed = bert_preprocess_model(text_test)"
      ]
    },
    {
      "cell_type": "markdown",
      "source": [
        "ساختن مدل های بر اساس مدل encoder , pre process"
      ],
      "metadata": {
        "id": "gwwGNtipKUyC"
      }
    },
    {
      "cell_type": "code",
      "execution_count": 10,
      "metadata": {
        "execution": {
          "iopub.execute_input": "2021-01-13T03:08:07.428866Z",
          "iopub.status.busy": "2021-01-13T03:08:07.427625Z",
          "iopub.status.idle": "2021-01-13T03:08:10.467605Z",
          "shell.execute_reply": "2021-01-13T03:08:10.468143Z"
        },
        "id": "0SQi-jWd_jzq"
      },
      "outputs": [],
      "source": [
        "bert_model = hub.KerasLayer(tfhub_handle_encoder)\n",
        "bert_results = bert_model(text_preprocessed)"
      ]
    },
    {
      "cell_type": "markdown",
      "source": [
        "کلاس های موجود در دیتاست"
      ],
      "metadata": {
        "id": "eAUGtgkVKlfA"
      }
    },
    {
      "cell_type": "code",
      "source": [
        "binarizer.classes_"
      ],
      "metadata": {
        "colab": {
          "base_uri": "https://localhost:8080/"
        },
        "id": "FeAbDKOw8lpH",
        "outputId": "a55a0edb-abc2-4b71-cfe4-2cb7ee516f5f"
      },
      "execution_count": 11,
      "outputs": [
        {
          "output_type": "execute_result",
          "data": {
            "text/plain": [
              "array(['AddToPlaylist', 'BookRestaurant', 'GetWeather', 'PlayMusic',\n",
              "       'RateBook', 'SearchCreativeWork', 'SearchScreeningEvent'],\n",
              "      dtype='<U20')"
            ]
          },
          "metadata": {},
          "execution_count": 11
        }
      ]
    },
    {
      "cell_type": "markdown",
      "source": [
        "ساخت لایه‌های شبکه عصبی با استفاده از مدل‌های پیش پردازش و encoder \n",
        "این شبکه عصبی از ۷ لایه dense و یک لایه ورودی برای دسته بندی بردار های ورودی تشکیل شده است"
      ],
      "metadata": {
        "id": "mrshPPXxoHM-"
      }
    },
    {
      "cell_type": "code",
      "execution_count": 13,
      "metadata": {
        "execution": {
          "iopub.execute_input": "2021-01-13T03:08:20.306302Z",
          "iopub.status.busy": "2021-01-13T03:08:20.305016Z",
          "iopub.status.idle": "2021-01-13T03:08:20.307988Z",
          "shell.execute_reply": "2021-01-13T03:08:20.307291Z"
        },
        "id": "aksj743St9ga"
      },
      "outputs": [],
      "source": [
        "def build_classifier_model():\n",
        "  text_input = tf.keras.layers.Input(shape=(), dtype=tf.string, name='text')\n",
        "  preprocessing_layer = hub.KerasLayer(tfhub_handle_preprocess, name='preprocessing')\n",
        "  encoder_inputs = preprocessing_layer(text_input)\n",
        "  encoder = hub.KerasLayer(tfhub_handle_encoder, trainable=True, name='BERT_encoder')\n",
        "  outputs = encoder(encoder_inputs)\n",
        "  net = outputs['pooled_output']\n",
        "  net = tf.keras.layers.Dropout(0.1)(net)\n",
        "  net = tf.keras.layers.Dense(7, activation=None, name='classifier')(net)\n",
        "  return tf.keras.Model(text_input, net)"
      ]
    },
    {
      "cell_type": "markdown",
      "source": [
        "آموزش مدل ساخته شده"
      ],
      "metadata": {
        "id": "iKb0wzlaXTRN"
      }
    },
    {
      "cell_type": "code",
      "source": [
        "def train():\n",
        "  classifier_model = build_classifier_model()\n",
        "  bert_raw_result = classifier_model(tf.constant(trainfeatures[0]))\n",
        "  classifier_model.summary()\n",
        "\n",
        "\n",
        "  loss = tf.keras.losses.CategoricalCrossentropy(from_logits=True)\n",
        "  metrics = tf.metrics.CategoricalAccuracy()\n",
        "\n",
        "  epochs=5\n",
        "  optimizer=tf.keras.optimizers.Adam(1e-5)\n",
        "  classifier_model.compile(optimizer=optimizer,\n",
        "                         loss=loss,\n",
        "                         metrics=metrics)\n",
        "  print(f'Training model with {tfhub_handle_encoder}')\n",
        "  history = classifier_model.fit(x=trainfeatures,y=trainlabels,\n",
        "                               validation_data=(validfeatures,validlabels),\n",
        "                               batch_size=32,\n",
        "                               epochs=epochs)\n",
        "  return classifier_model"
      ],
      "metadata": {
        "id": "ZlWeBLRNBzSn"
      },
      "execution_count": 14,
      "outputs": []
    },
    {
      "cell_type": "markdown",
      "source": [
        "تابع تست مدل با استفاده از داده‌های تست و ارزیابی دقت مدل"
      ],
      "metadata": {
        "id": "0luF5_ezoKvd"
      }
    },
    {
      "cell_type": "code",
      "execution_count": 15,
      "metadata": {
        "execution": {
          "iopub.execute_input": "2021-01-13T03:08:20.317706Z",
          "iopub.status.busy": "2021-01-13T03:08:20.316292Z",
          "iopub.status.idle": "2021-01-13T03:08:27.279676Z",
          "shell.execute_reply": "2021-01-13T03:08:27.279042Z"
        },
        "id": "mGMF8AZcB2Zy"
      },
      "outputs": [],
      "source": [
        "def test(model):\n",
        "  loss, accuracy = model.evaluate(testfeatures,testlabels)\n",
        "\n",
        "  print(f'Loss: {loss}')\n",
        "  print(f'Accuracy: {accuracy}')"
      ]
    },
    {
      "cell_type": "code",
      "execution_count": null,
      "metadata": {
        "execution": {
          "iopub.execute_input": "2021-01-13T03:08:27.596402Z",
          "iopub.status.busy": "2021-01-13T03:08:27.595622Z",
          "iopub.status.idle": "2021-01-13T03:08:27.600436Z",
          "shell.execute_reply": "2021-01-13T03:08:27.600889Z"
        },
        "id": "OWPOZE-L3AgE"
      },
      "outputs": [],
      "source": [
        "model = train()"
      ]
    },
    {
      "cell_type": "code",
      "source": [
        "test(model)"
      ],
      "metadata": {
        "id": "AM_CIet6C5CH"
      },
      "execution_count": null,
      "outputs": []
    },
    {
      "cell_type": "code",
      "source": [
        "def print_my_examples(inputs, results):\n",
        "  result_for_printing = [f'input: {inputs[i]:<30} : estimated intent: {results[i]}' for i in range(len(inputs))]\n",
        "  print(*result_for_printing, sep='\\n')\n",
        "  print()\n",
        "\n",
        "\n"
      ],
      "metadata": {
        "id": "LpAkohs3Lf1E"
      },
      "execution_count": null,
      "outputs": []
    },
    {
      "cell_type": "markdown",
      "source": [
        "تست مدل با استفاده از داده‌های ورودی "
      ],
      "metadata": {
        "id": "pBXzpzl_oN4s"
      }
    },
    {
      "cell_type": "code",
      "execution_count": null,
      "metadata": {
        "execution": {
          "iopub.execute_input": "2021-01-13T03:17:08.070832Z",
          "iopub.status.busy": "2021-01-13T03:17:08.068184Z",
          "iopub.status.idle": "2021-01-13T03:17:08.879352Z",
          "shell.execute_reply": "2021-01-13T03:17:08.878815Z"
        },
        "id": "LkKpoOHH9GLR"
      },
      "outputs": [],
      "source": [
        "examples = [\n",
        "    'I like to sing a song at the moment',\n",
        "    'can you play this amazing song by guitar ?',\n",
        "    'The weather looks rainy',\n",
        "    'i give this book a rating value of 1 and a best rating of 6',\n",
        "    'I want to book a double table for this night'\n",
        "]\n",
        "\n",
        "results = tf.nn.softmax(model(tf.constant(examples)))\n",
        "intents=binarizer.inverse_transform(results.numpy())\n",
        "print_my_examples(examples, intents)"
      ]
    }
  ],
  "metadata": {
    "accelerator": "GPU",
    "colab": {
      "collapsed_sections": [],
      "name": "intent_classification_with_bert.ipynb",
      "provenance": []
    },
    "kernelspec": {
      "display_name": "Python 3",
      "language": "python",
      "name": "python3"
    },
    "language_info": {
      "codemirror_mode": {
        "name": "ipython",
        "version": 3
      },
      "file_extension": ".py",
      "mimetype": "text/x-python",
      "name": "python",
      "nbconvert_exporter": "python",
      "pygments_lexer": "ipython3",
      "version": "3.8.0"
    },
    "toc": {
      "base_numbering": 1,
      "nav_menu": {},
      "number_sections": true,
      "sideBar": true,
      "skip_h1_title": false,
      "title_cell": "Table of Contents",
      "title_sidebar": "Contents",
      "toc_cell": false,
      "toc_position": {},
      "toc_section_display": true,
      "toc_window_display": false
    }
  },
  "nbformat": 4,
  "nbformat_minor": 0
}